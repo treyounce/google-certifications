{
 "cells": [
  {
   "cell_type": "markdown",
   "metadata": {},
   "source": [
    "### Factorial \n",
    " - factorial is every number below n multiplied together"
   ]
  },
  {
   "cell_type": "code",
   "execution_count": 1,
   "metadata": {},
   "outputs": [
    {
     "name": "stdout",
     "output_type": "stream",
     "text": [
      "0\n",
      "1\n",
      "2\n",
      "3\n"
     ]
    }
   ],
   "source": [
    "for x in range(4):\n",
    "    print(x)"
   ]
  },
  {
   "cell_type": "code",
   "execution_count": 2,
   "metadata": {},
   "outputs": [],
   "source": [
    "def factorial(n):\n",
    "    answer = 1\n",
    "    for i in range(1, n+1):\n",
    "        answer = i * answer\n",
    "    return answer"
   ]
  },
  {
   "cell_type": "code",
   "execution_count": 3,
   "metadata": {},
   "outputs": [
    {
     "data": {
      "text/plain": [
       "6"
      ]
     },
     "execution_count": 3,
     "metadata": {},
     "output_type": "execute_result"
    }
   ],
   "source": [
    "factorial(3)"
   ]
  },
  {
   "cell_type": "markdown",
   "metadata": {},
   "source": [
    "The validate_users function is used by the system to check if a list of users is valid or invalid. A valid user is one that is at least 3 characters long. For example, ['taylor', 'luisa', 'jamaal'] are all valid users. When calling it like in this example, something is not right. Can you figure out what to fix?"
   ]
  },
  {
   "cell_type": "code",
   "execution_count": 4,
   "metadata": {},
   "outputs": [
    {
     "data": {
      "text/plain": [
       "3"
      ]
     },
     "execution_count": 4,
     "metadata": {},
     "output_type": "execute_result"
    }
   ],
   "source": [
    "def digits(n):\n",
    "    \n",
    "    n = str(n)\n",
    "    \n",
    "    count = 0\n",
    "    \n",
    "    for i in n:\n",
    "        count += 1\n",
    "        \n",
    "    return count\n",
    "\n",
    "digits(100)"
   ]
  },
  {
   "cell_type": "code",
   "execution_count": 5,
   "metadata": {},
   "outputs": [
    {
     "name": "stdout",
     "output_type": "stream",
     "text": [
      "2\n",
      "3\n",
      "4\n",
      "1\n"
     ]
    }
   ],
   "source": [
    "print(digits(25))   # Should print 2\n",
    "print(digits(144))  # Should print 3\n",
    "print(digits(1000)) # Should print 4\n",
    "print(digits(0))    # Should print 1"
   ]
  },
  {
   "cell_type": "markdown",
   "metadata": {},
   "source": [
    "This function prints out a multiplication table (where each number is the result of multiplying the first number of its row by the number at the top of its column). Fill in the blanks so that calling multiplication_table(1, 3) will print out:\n",
    "\n",
    "1 2 3\n",
    "\n",
    "2 4 6\n",
    "\n",
    "3 6 9\n",
    "\n"
   ]
  },
  {
   "cell_type": "markdown",
   "metadata": {},
   "source": [
    "Question 5\n",
    "The counter function counts down from start to stop when start is bigger than stop, and counts up from start to stop otherwise. Fill in the blanks to make this work correctly."
   ]
  },
  {
   "cell_type": "code",
   "execution_count": 6,
   "metadata": {},
   "outputs": [
    {
     "ename": "NameError",
     "evalue": "name 'counting' is not defined",
     "output_type": "error",
     "traceback": [
      "\u001b[0;31m---------------------------------------------------------------------------\u001b[0m",
      "\u001b[0;31mNameError\u001b[0m                                 Traceback (most recent call last)",
      "\u001b[0;32m<ipython-input-6-395bb2746892>\u001b[0m in \u001b[0;36m<module>\u001b[0;34m\u001b[0m\n\u001b[0;32m----> 1\u001b[0;31m \u001b[0mcounting\u001b[0m\u001b[0;34m(\u001b[0m\u001b[0;36m123\u001b[0m\u001b[0;34m,\u001b[0m\u001b[0;36m15\u001b[0m\u001b[0;34m)\u001b[0m\u001b[0;34m\u001b[0m\u001b[0;34m\u001b[0m\u001b[0m\n\u001b[0m",
      "\u001b[0;31mNameError\u001b[0m: name 'counting' is not defined"
     ]
    }
   ],
   "source": [
    "counting(123,15)"
   ]
  },
  {
   "cell_type": "code",
   "execution_count": 7,
   "metadata": {},
   "outputs": [],
   "source": [
    "def counting(start, stop):\n",
    "    counter= start +1\n",
    "    \n",
    "    if start > stop:\n",
    "        while counter > stop:\n",
    "            counter -= 1\n",
    "            print(str(counter), sep= ',')\n",
    "    else:\n",
    "        counter = start -1\n",
    "        while counter < stop:\n",
    "            counter += 1\n",
    "            print(str(counter))"
   ]
  },
  {
   "cell_type": "code",
   "execution_count": 8,
   "metadata": {},
   "outputs": [
    {
     "name": "stdout",
     "output_type": "stream",
     "text": [
      "4\n",
      "5\n",
      "6\n",
      "7\n",
      "8\n",
      "9\n",
      "10\n",
      "11\n",
      "12\n",
      "13\n",
      "14\n"
     ]
    }
   ],
   "source": [
    "counting(4, 14)"
   ]
  },
  {
   "cell_type": "markdown",
   "metadata": {},
   "source": [
    "The even_numbers function returns a space-separated string of all positive numbers that are divisible by 2, up to and including the maximum that's passed into the function. For example, even_numbers(6) returns “2 4 6”. Fill in the blank to make this work.\n",
    "\n"
   ]
  },
  {
   "cell_type": "code",
   "execution_count": 22,
   "metadata": {},
   "outputs": [],
   "source": [
    "def even_numbers(n):\n",
    "    \n",
    "    for x in range(1,n+1):\n",
    "        if x % 2 == 0:\n",
    "            print(x, end = ' ')\n",
    "        \n"
   ]
  },
  {
   "cell_type": "code",
   "execution_count": 28,
   "metadata": {},
   "outputs": [
    {
     "name": "stdout",
     "output_type": "stream",
     "text": [
      "2 4 6 8 10 "
     ]
    }
   ],
   "source": [
    "even_numbers(11)"
   ]
  },
  {
   "cell_type": "code",
   "execution_count": 29,
   "metadata": {},
   "outputs": [
    {
     "name": "stdout",
     "output_type": "stream",
     "text": [
      "1\n",
      "4\n",
      "7\n"
     ]
    }
   ],
   "source": [
    "for x in range(1, 10, 3):\n",
    "    print(x)"
   ]
  },
  {
   "cell_type": "code",
   "execution_count": 39,
   "metadata": {},
   "outputs": [
    {
     "name": "stdout",
     "output_type": "stream",
     "text": [
      "0\n",
      "0\n",
      "1\n",
      "0\n",
      "1\n",
      "2\n",
      "0\n",
      "1\n",
      "2\n",
      "3\n",
      "0\n",
      "1\n",
      "2\n",
      "3\n",
      "4\n",
      "0\n",
      "1\n",
      "2\n",
      "3\n",
      "4\n",
      "5\n",
      "0\n",
      "1\n",
      "2\n",
      "3\n",
      "4\n",
      "5\n",
      "6\n",
      "0\n",
      "1\n",
      "2\n",
      "3\n",
      "4\n",
      "5\n",
      "6\n",
      "7\n",
      "0\n",
      "1\n",
      "2\n",
      "3\n",
      "4\n",
      "5\n",
      "6\n",
      "7\n",
      "8\n"
     ]
    }
   ],
   "source": [
    "for x in range(10):\n",
    "    for y in range(x):\n",
    "        print(y)"
   ]
  },
  {
   "cell_type": "code",
   "execution_count": 40,
   "metadata": {},
   "outputs": [],
   "source": [
    "def double_word(word):\n",
    "    word = word*2\n",
    "    length = str(len(word))\n",
    "    print(word+length)"
   ]
  },
  {
   "cell_type": "code",
   "execution_count": 41,
   "metadata": {},
   "outputs": [
    {
     "name": "stdout",
     "output_type": "stream",
     "text": [
      "hellohello10\n"
     ]
    }
   ],
   "source": [
    "double_word('hello')"
   ]
  },
  {
   "cell_type": "code",
   "execution_count": 42,
   "metadata": {},
   "outputs": [
    {
     "name": "stdout",
     "output_type": "stream",
     "text": [
      "abcabc6\n"
     ]
    }
   ],
   "source": [
    "double_word('abc')"
   ]
  },
  {
   "cell_type": "code",
   "execution_count": 59,
   "metadata": {},
   "outputs": [],
   "source": [
    "def initials(phrase):\n",
    "    phrase = str(phrase).split()\n",
    "    \n",
    "    phrase_list = []\n",
    "    \n",
    "    for x in phrase:\n",
    "        phrase_list.append(x[0].upper())\n",
    "    \n",
    "    print(*phrase_list, end = '')\n"
   ]
  },
  {
   "cell_type": "code",
   "execution_count": 60,
   "metadata": {},
   "outputs": [
    {
     "name": "stdout",
     "output_type": "stream",
     "text": [
      "U S B"
     ]
    }
   ],
   "source": [
    "initials(\"Universal Serial Bus\")"
   ]
  },
  {
   "cell_type": "code",
   "execution_count": 61,
   "metadata": {},
   "outputs": [],
   "source": [
    "def student_grade(name, grade):\n",
    "\treturn f'{name} received {grade} % on the exam'"
   ]
  },
  {
   "cell_type": "code",
   "execution_count": 63,
   "metadata": {},
   "outputs": [
    {
     "data": {
      "text/plain": [
       "'Reed received 80 % on the exam'"
      ]
     },
     "execution_count": 63,
     "metadata": {},
     "output_type": "execute_result"
    }
   ],
   "source": [
    "student_grade('Reed', 80)"
   ]
  },
  {
   "cell_type": "markdown",
   "metadata": {},
   "source": [
    "Question 5\n",
    "The replace_ending function replaces the old string in a sentence with the new string, but only if the sentence ends with the old string. If there is more than one occurrence of the old string in the sentence, only the one at the end is replaced, not all of them. For example, replace_ending(\"abcabc\", \"abc\", \"xyz\") should return abcxyz, not xyzxyz or xyzabc. The string comparison is case-sensitive, so replace_ending(\"abcabc\", \"ABC\", \"xyz\") should return abcabc (no changes made)."
   ]
  },
  {
   "cell_type": "code",
   "execution_count": 73,
   "metadata": {},
   "outputs": [],
   "source": [
    "def is_palindrome(input_string):\n",
    "\t# We'll create two strings, to compare them\n",
    "\tnew_string = \"\"\n",
    "\treverse_string = \"\"\n",
    "\t# Traverse through each letter of the input string\n",
    "\tfor x in input_string:\n",
    "\t\t# Add any non-blank letters to the \n",
    "\t\t# end of one string, and to the front\n",
    "\t\t# of the other string. \n",
    "\t\tif input_string != ' ':\n",
    "\t\t\tnew_string = input_string\n",
    "\t\t\treverse_string = input_string[::-1]\n",
    "\t# Compare the strings\n",
    "\tif new_string == reverse_string:\n",
    "\t\treturn True\n",
    "\treturn False"
   ]
  },
  {
   "cell_type": "code",
   "execution_count": 80,
   "metadata": {},
   "outputs": [
    {
     "ename": "TabError",
     "evalue": "inconsistent use of tabs and spaces in indentation (<ipython-input-80-0d2bd52c047c>, line 10)",
     "output_type": "error",
     "traceback": [
      "\u001b[0;36m  File \u001b[0;32m\"<ipython-input-80-0d2bd52c047c>\"\u001b[0;36m, line \u001b[0;32m10\u001b[0m\n\u001b[0;31m    if x != '':\u001b[0m\n\u001b[0m               ^\u001b[0m\n\u001b[0;31mTabError\u001b[0m\u001b[0;31m:\u001b[0m inconsistent use of tabs and spaces in indentation\n"
     ]
    }
   ],
   "source": [
    "def is_palindrome(input_string):\n",
    "\t# We'll create two strings, to compare them\n",
    "\tnew_string = \"\"\n",
    "\treverse_string = \"\"\n",
    "\t# Traverse through each letter of the input string\n",
    "\tfor x in input_string:\n",
    "\t\t# Add any non-blank letters to the \n",
    "\t\t# end of one string, and to the front\n",
    "\t\t# of the other string. \n",
    "        if x != '':\n",
    "            new_string+= x\n",
    "        return new_string\n",
    "    "
   ]
  },
  {
   "cell_type": "code",
   "execution_count": 106,
   "metadata": {},
   "outputs": [],
   "source": [
    "def is_pal(input_string):\n",
    "    new_string = ''\n",
    "    reverse_string = ''\n",
    "    \n",
    "    for x in input_string:\n",
    "        if x != ' ':\n",
    "            new_string += x.lower()\n",
    "    reverse_string = new_string[::-1]\n",
    "    \n",
    "    if new_string == reverse_string:\n",
    "        return True \n",
    "    return False\n",
    "    \n",
    "    "
   ]
  },
  {
   "cell_type": "code",
   "execution_count": 108,
   "metadata": {},
   "outputs": [
    {
     "data": {
      "text/plain": [
       "True"
      ]
     },
     "execution_count": 108,
     "metadata": {},
     "output_type": "execute_result"
    }
   ],
   "source": [
    "is_pal(\"Never Odd or Even\")"
   ]
  },
  {
   "cell_type": "code",
   "execution_count": 130,
   "metadata": {},
   "outputs": [],
   "source": [
    "def replace_ending(sentence, old, new):\n",
    "    # Check if the old string is at the end of the sentence \n",
    "    if sentence.endswith(old):\n",
    "        \n",
    "        i = sentence.index(old)\n",
    "    return i\n",
    "\n",
    "\n",
    "\n",
    "\t# Return the original sentence if there is no match \n"
   ]
  },
  {
   "cell_type": "code",
   "execution_count": 131,
   "metadata": {},
   "outputs": [
    {
     "data": {
      "text/plain": [
       "13"
      ]
     },
     "execution_count": 131,
     "metadata": {},
     "output_type": "execute_result"
    }
   ],
   "source": [
    "replace_ending(\"It's raining cats and cats\", \"cats\", \"dogs\")"
   ]
  },
  {
   "cell_type": "code",
   "execution_count": 135,
   "metadata": {},
   "outputs": [],
   "source": [
    "def replace_ending(sentence, old, new):\n",
    "\t# Check if the old string is at the end of the sentence \n",
    "\tif sentence.endswith(old):\n",
    "\t\t# Using i as the slicing index, combine the part\n",
    "\t\t# of the sentence up to the matched string at the \n",
    "\t\t# end with the new string\n",
    "\t\ti = sentence.index(old)\n",
    "\t\tnew_sentence = sentence[:i] + new\n",
    "\t\treturn new_sentence"
   ]
  },
  {
   "cell_type": "code",
   "execution_count": 136,
   "metadata": {},
   "outputs": [
    {
     "data": {
      "text/plain": [
       "\"It's raining dogs\""
      ]
     },
     "execution_count": 136,
     "metadata": {},
     "output_type": "execute_result"
    }
   ],
   "source": [
    "replace_ending(\"It's raining cats and cats\", \"cats\", \"dogs\")"
   ]
  },
  {
   "cell_type": "markdown",
   "metadata": {},
   "source": [
    "## their way is above this, my way is below it. My thougt is to split it into a list and trace it by index and replace it. A for loop to iterate over, or if it is only the last word that im dealign with just use last word indexing for the split list"
   ]
  },
  {
   "cell_type": "code",
   "execution_count": 155,
   "metadata": {},
   "outputs": [],
   "source": [
    "def replace(sentence, old, new):\n",
    "        sentence = sentence.split()\n",
    "        \n",
    "        for x in sentence:\n",
    "            if x == sentence[-1]:\n",
    "                sentence[-1] = new\n",
    "                return print(*sentence)"
   ]
  },
  {
   "cell_type": "code",
   "execution_count": 156,
   "metadata": {},
   "outputs": [
    {
     "name": "stdout",
     "output_type": "stream",
     "text": [
      "It's raining cats and dogs\n"
     ]
    }
   ],
   "source": [
    "replace(\"It's raining cats and cats\", \"cats\", \"dogs\")"
   ]
  },
  {
   "cell_type": "markdown",
   "metadata": {},
   "source": [
    "### Skip elements\n",
    "\n",
    "- The skip_elements function returns a list containing every other element from an input list, starting with the first element. Complete this function to do that, using the for loop to iterate through the input list"
   ]
  },
  {
   "cell_type": "code",
   "execution_count": 196,
   "metadata": {},
   "outputs": [],
   "source": [
    "def skip_elements(elements):\n",
    "     return [elements[index] for index in range(len(elements)) if index % 2 == 0]\n",
    "    \n",
    "\n",
    "        "
   ]
  },
  {
   "cell_type": "code",
   "execution_count": 197,
   "metadata": {},
   "outputs": [
    {
     "name": "stdout",
     "output_type": "stream",
     "text": [
      "['a', 'c', 'e', 'g']\n",
      "['Orange', 'Strawberry', 'Peach']\n",
      "[]\n"
     ]
    }
   ],
   "source": [
    "\n",
    "print(skip_elements([\"a\", \"b\", \"c\", \"d\", \"e\", \"f\", \"g\"])) # Should be ['a', 'c', 'e', 'g']\n",
    "print(skip_elements(['Orange', 'Pineapple', 'Strawberry', 'Kiwi', 'Peach'])) # Should be ['Orange', 'Strawberry', 'Peach']\n",
    "print(skip_elements([])) # Should be []"
   ]
  },
  {
   "cell_type": "markdown",
   "metadata": {},
   "source": [
    "Given a list of filenames, we want to rename all the files with extension hpp to the extension h. To do this, we would like to generate a new list called newfilenames, consisting of the new filenames. Fill in the blanks in the code using any of the methods you’ve learned thus far, like a for loop or a list comprehension.\n",
    "\n"
   ]
  },
  {
   "cell_type": "code",
   "execution_count": 70,
   "metadata": {},
   "outputs": [],
   "source": [
    "filenames = [\"program.c\", \"stdio.hpp\", \"sample.hpp\", \"a.out\", \"math.hpp\", \"hpp.out\"]\n",
    "\n",
    "newfilenames = [x.replace('.hpp','.h') for x in filenames]      "
   ]
  },
  {
   "cell_type": "code",
   "execution_count": 71,
   "metadata": {},
   "outputs": [
    {
     "data": {
      "text/plain": [
       "['program.c', 'stdio.hpp', 'sample.hpp', 'a.out', 'math.hpp', 'hpp.out']"
      ]
     },
     "execution_count": 71,
     "metadata": {},
     "output_type": "execute_result"
    }
   ],
   "source": [
    "filenames"
   ]
  },
  {
   "cell_type": "code",
   "execution_count": 72,
   "metadata": {},
   "outputs": [
    {
     "data": {
      "text/plain": [
       "['program.c', 'stdio.h', 'sample.h', 'a.out', 'math.h', 'hpp.out']"
      ]
     },
     "execution_count": 72,
     "metadata": {},
     "output_type": "execute_result"
    }
   ],
   "source": [
    "newfilenames"
   ]
  },
  {
   "cell_type": "markdown",
   "metadata": {},
   "source": [
    "Question 2\n",
    "Let's create a function that turns text into pig latin: a simple text transformation that modifies each word moving the first character to the end and appending \"ay\" to the end. For example, python ends up as ythonpay"
   ]
  },
  {
   "cell_type": "code",
   "execution_count": 73,
   "metadata": {},
   "outputs": [],
   "source": [
    "text = \"hello how are you\"\n",
    "\n",
    "text_list=text.split()"
   ]
  },
  {
   "cell_type": "code",
   "execution_count": 74,
   "metadata": {},
   "outputs": [
    {
     "data": {
      "text/plain": [
       "'hello'"
      ]
     },
     "execution_count": 74,
     "metadata": {},
     "output_type": "execute_result"
    }
   ],
   "source": [
    "text_list\n",
    "\n",
    "text_list[0]\n",
    "    "
   ]
  },
  {
   "cell_type": "code",
   "execution_count": 86,
   "metadata": {},
   "outputs": [],
   "source": [
    "def pig_latin(text):\n",
    "    say = \"\"\n",
    "  # Separate the text into words\n",
    "    words = text.split()\n",
    "    new = [x[1:] + x[0]+ 'ay' for x in words]\n",
    "\n",
    "    return print(*new, sep= ', ', end = '')"
   ]
  },
  {
   "cell_type": "code",
   "execution_count": 87,
   "metadata": {},
   "outputs": [
    {
     "name": "stdout",
     "output_type": "stream",
     "text": [
      "ellohay, owhay, reaay, ouyayNone\n",
      "rogrammingpay, niay, ythonpay, siay, unfayNone\n"
     ]
    }
   ],
   "source": [
    "\t\t\n",
    "print(pig_latin(\"hello how are you\")) # Should be \"ellohay owhay reaay ouyay\"\n",
    "print(pig_latin(\"programming in python is fun\")) # Should be \"rogrammingpay niay ythonpay siay unfay\""
   ]
  },
  {
   "cell_type": "code",
   "execution_count": 76,
   "metadata": {},
   "outputs": [],
   "source": []
  },
  {
   "cell_type": "code",
   "execution_count": 77,
   "metadata": {},
   "outputs": [
    {
     "name": "stdout",
     "output_type": "stream",
     "text": [
      "ellohay owhay reaay ouyay\n"
     ]
    }
   ],
   "source": []
  },
  {
   "cell_type": "markdown",
   "metadata": {},
   "source": [
    "Question 3\n",
    "The permissions of a file in a Linux system are split into three sets of three permissions: read, write, and execute for the owner, group, and others. Each of the three values can be expressed as an octal number summing each permission, with 4 corresponding to read, 2 to write, and 1 to execute. Or it can be written with a string using the letters r, w, and x or - when the permission is not granted. For example: 640 is read/write for the owner, read for the group, and no permissions for the others; converted to a string, it would be: \"rw-r-----\" 755 is read/write/execute for the owner, and read/execute for group and others; converted to a string, it would be: \"rwxr-xr-x\" Fill in the blanks to make the code convert a permission in octal format into a string format"
   ]
  },
  {
   "cell_type": "code",
   "execution_count": 66,
   "metadata": {},
   "outputs": [
    {
     "name": "stdout",
     "output_type": "stream",
     "text": [
      "rwxr-xr-x\n",
      "rw-r--r--\n",
      "rwxr-x---\n",
      "rw-------\n"
     ]
    }
   ],
   "source": [
    "def octal_to_string(octal):\n",
    "    result = \"\"\n",
    "    value_letters = [(4,\"r\"),(2,\"w\"),(1,\"x\")]\n",
    "    # Iterate over each of the digits in octal\n",
    "    for x in [int(n) for n in str(octal)]:\n",
    "        # Check for each of the permissions values\n",
    "        for value, letter in value_letters:\n",
    "            if x >= value:\n",
    "                result += letter\n",
    "                x -= value\n",
    "            else:\n",
    "                result += '-'\n",
    "    return result\n",
    "    \n",
    "print(octal_to_string(755)) # Should be rwxr-xr-x\n",
    "print(octal_to_string(644)) # Should be rw-r--r--\n",
    "print(octal_to_string(750)) # Should be rwxr-x---\n",
    "print(octal_to_string(600)) # Should be rw-------"
   ]
  },
  {
   "cell_type": "code",
   "execution_count": null,
   "metadata": {},
   "outputs": [],
   "source": []
  },
  {
   "cell_type": "code",
   "execution_count": null,
   "metadata": {},
   "outputs": [],
   "source": []
  },
  {
   "cell_type": "markdown",
   "metadata": {},
   "source": [
    "Question 5\n",
    "The group_list function accepts a group name and a list of members, and returns a string with the format: group_name: member1, member2, … For example, group_list(\"g\", [\"a\",\"b\",\"c\"]) returns \"g: a, b, c\". Fill in the gaps in this function to do that."
   ]
  },
  {
   "cell_type": "code",
   "execution_count": 92,
   "metadata": {},
   "outputs": [
    {
     "name": "stdout",
     "output_type": "stream",
     "text": [
      " Marketing: Mike, Karen, Jake, Tasha\n",
      " Engineering: Kim, Jay, Tom\n",
      " Users: \n"
     ]
    }
   ],
   "source": [
    "def group_list(group, users):\n",
    "    members =\", \".join(users) \n",
    "    return(\" {}: {}\".format(group, members)) \n",
    "\n",
    "print(group_list(\"Marketing\", [\"Mike\", \"Karen\", \"Jake\", \"Tasha\"])) # Should be \"Marketing: Mike, Karen, Jake, Tasha\"\n",
    "print(group_list(\"Engineering\", [\"Kim\", \"Jay\", \"Tom\"])) # Should be \"Engineering: Kim, Jay, Tom\"\n",
    "print(group_list(\"Users\", \"\")) # Should be \"Users:\""
   ]
  },
  {
   "cell_type": "markdown",
   "metadata": {},
   "source": [
    "Question 6\n",
    "The guest_list function reads in a list of tuples with the name, age, and profession of each party guest, and prints the sentence \"Guest is X years old and works as __.\" for each one. For example, guest_list(('Ken', 30, \"Chef\"), (\"Pat\", 35, 'Lawyer'), ('Amanda', 25, \"Engineer\")) should print out: Ken is 30 years old and works as Chef. Pat is 35 years old and works as Lawyer. Amanda is 25 years old and works as Engineer. Fill in the gaps in this function to do that."
   ]
  },
  {
   "cell_type": "code",
   "execution_count": 159,
   "metadata": {},
   "outputs": [],
   "source": [
    "def guest_list(guests):\n",
    "        \n",
    "    for guest in guests:\n",
    "        \n",
    "\n",
    "guest_list([('Ken', 30, \"Chef\"), (\"Pat\", 35, 'Lawyer'), ('Amanda', 25, \"Engineer\")])"
   ]
  },
  {
   "cell_type": "markdown",
   "metadata": {},
   "source": [
    "\n",
    "In Python, a dictionary can only hold a single value for a given key. To workaround this, our single value can be a list containing multiple values. Here we have a dictionary called \"wardrobe\" with items of clothing and their colors. Fill in the blanks to print a line for each item of clothing with each color, for example: \"red shirt\", \"blue shirt\", and so on."
   ]
  },
  {
   "cell_type": "code",
   "execution_count": 207,
   "metadata": {},
   "outputs": [
    {
     "name": "stdout",
     "output_type": "stream",
     "text": [
      "red shirt\n",
      "blue shirt\n",
      "white shirt\n",
      "blue jeans\n",
      "black jeans\n"
     ]
    }
   ],
   "source": [
    "wardrobe = {\"shirt\":[\"red\",\"blue\",\"white\"], \"jeans\":[\"blue\",\"black\"]}\n",
    "\n",
    "wardrobe = {\"shirt\":[\"red\",\"blue\",\"white\"], \"jeans\":[\"blue\",\"black\"]}\n",
    "for key, value in wardrobe.items():\n",
    "    for x in value:\n",
    "        print(f'{x} {key}')\n",
    "\n",
    "    \n",
    "    \n",
    "\n",
    "    \n"
   ]
  },
  {
   "cell_type": "markdown",
   "metadata": {},
   "source": [
    "The email_list function receives a dictionary, which contains domain names as keys, and a list of users as values. Fill in the blanks to generate a list that contains complete email addresses (e.g. diana.prince@gmail.com)."
   ]
  },
  {
   "cell_type": "code",
   "execution_count": 244,
   "metadata": {},
   "outputs": [],
   "source": [
    "def email_list(domains):\n",
    "    emails = []\n",
    "    for domain, people in domains.items():\n",
    "        for person in people:\n",
    "            emails.append(f'{person}@{domain}')\n",
    "    return emails\n"
   ]
  },
  {
   "cell_type": "code",
   "execution_count": 245,
   "metadata": {},
   "outputs": [
    {
     "name": "stdout",
     "output_type": "stream",
     "text": [
      "['clark.kent@gmail.com', 'diana.prince@gmail.com', 'peter.parker@gmail.com', 'barbara.gordon@yahoo.com', 'jean.grey@yahoo.com', 'bruce.wayne@hotmail.com']\n"
     ]
    }
   ],
   "source": [
    "print(email_list({\"gmail.com\": [\"clark.kent\", \"diana.prince\", \"peter.parker\"], \"yahoo.com\": [\"barbara.gordon\", \"jean.grey\"], \"hotmail.com\": [\"bruce.wayne\"]}))\n"
   ]
  },
  {
   "cell_type": "code",
   "execution_count": null,
   "metadata": {},
   "outputs": [],
   "source": []
  },
  {
   "cell_type": "code",
   "execution_count": null,
   "metadata": {},
   "outputs": [],
   "source": []
  },
  {
   "cell_type": "markdown",
   "metadata": {},
   "source": [
    "The groups_per_user function receives a dictionary, which contains group names with the list of users. Users can belong to multiple groups. Fill in the blanks to return a dictionary with the users as keys and a list of their groups as values.\n",
    "\n"
   ]
  },
  {
   "cell_type": "code",
   "execution_count": 288,
   "metadata": {},
   "outputs": [
    {
     "ename": "SyntaxError",
     "evalue": "invalid syntax (<ipython-input-288-73f40ddecfdf>, line 4)",
     "output_type": "error",
     "traceback": [
      "\u001b[0;36m  File \u001b[0;32m\"<ipython-input-288-73f40ddecfdf>\"\u001b[0;36m, line \u001b[0;32m4\u001b[0m\n\u001b[0;31m    user_groups.update('user':[group])\u001b[0m\n\u001b[0m                             ^\u001b[0m\n\u001b[0;31mSyntaxError\u001b[0m\u001b[0;31m:\u001b[0m invalid syntax\n"
     ]
    }
   ],
   "source": [
    "def groups_per_user(group_dictionary):\n",
    "        user_groups = {}\n",
    "        for group, user in group_dictionary.items():\n",
    "            user_groups.update('user':[group])\n",
    "        \n",
    "        return user_groups"
   ]
  },
  {
   "cell_type": "code",
   "execution_count": null,
   "metadata": {},
   "outputs": [],
   "source": []
  },
  {
   "cell_type": "code",
   "execution_count": 284,
   "metadata": {},
   "outputs": [
    {
     "ename": "ValueError",
     "evalue": "dictionary update sequence element #0 has length 5; 2 is required",
     "output_type": "error",
     "traceback": [
      "\u001b[0;31m---------------------------------------------------------------------------\u001b[0m",
      "\u001b[0;31mValueError\u001b[0m                                Traceback (most recent call last)",
      "\u001b[0;32m<ipython-input-284-114586643e4c>\u001b[0m in \u001b[0;36m<module>\u001b[0;34m\u001b[0m\n\u001b[0;32m----> 1\u001b[0;31m print(groups_per_user({\"local\": [\"admin\", \"userA\"],\n\u001b[0m\u001b[1;32m      2\u001b[0m                 \u001b[0;34m\"public\"\u001b[0m\u001b[0;34m:\u001b[0m  \u001b[0;34m[\u001b[0m\u001b[0;34m\"admin\"\u001b[0m\u001b[0;34m,\u001b[0m \u001b[0;34m\"userB\"\u001b[0m\u001b[0;34m]\u001b[0m\u001b[0;34m,\u001b[0m\u001b[0;34m\u001b[0m\u001b[0;34m\u001b[0m\u001b[0m\n\u001b[1;32m      3\u001b[0m \t\t\"administrator\": [\"admin\"] }))\n",
      "\u001b[0;32m<ipython-input-283-e565cde8765d>\u001b[0m in \u001b[0;36mgroups_per_user\u001b[0;34m(group_dictionary)\u001b[0m\n\u001b[1;32m      2\u001b[0m         \u001b[0muser_groups\u001b[0m \u001b[0;34m=\u001b[0m \u001b[0;34m{\u001b[0m\u001b[0;34m}\u001b[0m\u001b[0;34m\u001b[0m\u001b[0;34m\u001b[0m\u001b[0m\n\u001b[1;32m      3\u001b[0m         \u001b[0;32mfor\u001b[0m \u001b[0mgroup\u001b[0m\u001b[0;34m,\u001b[0m \u001b[0muser\u001b[0m \u001b[0;32min\u001b[0m \u001b[0mgroup_dictionary\u001b[0m\u001b[0;34m.\u001b[0m\u001b[0mitems\u001b[0m\u001b[0;34m(\u001b[0m\u001b[0;34m)\u001b[0m\u001b[0;34m:\u001b[0m\u001b[0;34m\u001b[0m\u001b[0;34m\u001b[0m\u001b[0m\n\u001b[0;32m----> 4\u001b[0;31m             \u001b[0muser_groups\u001b[0m\u001b[0;34m.\u001b[0m\u001b[0mupdate\u001b[0m\u001b[0;34m(\u001b[0m\u001b[0;34m[\u001b[0m\u001b[0mgroup\u001b[0m\u001b[0;34m]\u001b[0m\u001b[0;34m)\u001b[0m\u001b[0;34m\u001b[0m\u001b[0;34m\u001b[0m\u001b[0m\n\u001b[0m\u001b[1;32m      5\u001b[0m \u001b[0;34m\u001b[0m\u001b[0m\n\u001b[1;32m      6\u001b[0m         \u001b[0;32mreturn\u001b[0m \u001b[0muser_groups\u001b[0m\u001b[0;34m\u001b[0m\u001b[0;34m\u001b[0m\u001b[0m\n",
      "\u001b[0;31mValueError\u001b[0m: dictionary update sequence element #0 has length 5; 2 is required"
     ]
    }
   ],
   "source": [
    "print(groups_per_user({\"local\": [\"admin\", \"userA\"],\n",
    "\t\t\"public\":  [\"admin\", \"userB\"],\n",
    "\t\t\"administrator\": [\"admin\"] }))"
   ]
  },
  {
   "cell_type": "markdown",
   "metadata": {},
   "source": [
    "The add_prices function returns the total price of all of the groceries in the dictionary. Fill in the blanks to complete this function."
   ]
  },
  {
   "cell_type": "code",
   "execution_count": 290,
   "metadata": {},
   "outputs": [
    {
     "name": "stdout",
     "output_type": "stream",
     "text": [
      "28.44\n"
     ]
    }
   ],
   "source": [
    "def add_prices(basket):\n",
    "\t# Initialize the variable that will be used for the calculation\n",
    "\ttotal = 0\n",
    "\t# Iterate through the dictionary items\n",
    "\tfor price in basket.values():\n",
    "\t\t# Add each price to the total calculation\n",
    "\t\t# Hint: how do you access the values of\n",
    "\t\t# dictionary items?\n",
    "\t\ttotal += price\n",
    "\t# Limit the return value to 2 decimal places\n",
    "\treturn round(total, 2)  \n",
    "\n",
    "groceries = {\"bananas\": 1.56, \"apples\": 2.50, \"oranges\": 0.99, \"bread\": 4.59, \n",
    "\t\"coffee\": 6.99, \"milk\": 3.39, \"eggs\": 2.98, \"cheese\": 5.44}\n",
    "\n",
    "print(add_prices(groceries)) # Should print 28.44"
   ]
  },
  {
   "cell_type": "markdown",
   "metadata": {},
   "source": [
    "1.\n",
    "Question 1\n",
    "The format_address function separates out parts of the address string into new strings: house_number and street_name, and returns: \"house number X on street named Y\". The format of the input string is: numeric house number, followed by the street name which may contain numbers, but never by themselves, and could be several words long. For example, \"123 Main Street\", \"1001 1st Ave\", or \"55 North Center Drive\". Fill in the gaps to complete this function."
   ]
  },
  {
   "cell_type": "code",
   "execution_count": 362,
   "metadata": {},
   "outputs": [],
   "source": [
    "def format_address(address_string):\n",
    "  # Declare variables\n",
    "\n",
    "    address = address_string.split()\n",
    "    \n",
    "    street_name = ''\n",
    "        \n",
    "    address_len = len(address)\n",
    "    \n",
    "    house_number = address[0]\n",
    "    \n",
    "    street_list = address[1:]\n",
    "    \n",
    "    for x in street_list:\n",
    "        street_name += x + ' '\n",
    "  # Separate the address string into parts\n",
    "\n",
    "  # Traverse through the address parts\n",
    " \n",
    "    # Determine if the address part is the\n",
    "    # house number or part of the street name\n",
    "\n",
    "  # Does anything else need to be done \n",
    "  # before returning the result?\n",
    "  \n",
    "  # Return the formatted string  \n",
    "    return \"house number {} on street named {}\".format(house_number, street_name)\n",
    "\n"
   ]
  },
  {
   "cell_type": "code",
   "execution_count": 363,
   "metadata": {},
   "outputs": [
    {
     "name": "stdout",
     "output_type": "stream",
     "text": [
      "house number 123 on street named Main Street \n",
      "house number 1001 on street named 1st Ave \n",
      "house number 55 on street named North Center Drive \n"
     ]
    }
   ],
   "source": [
    "\n",
    "print(format_address(\"123 Main Street\"))\n",
    "# Should print: \"house number 123 on street named Main Street\"\n",
    "\n",
    "print(format_address(\"1001 1st Ave\"))\n",
    "# Should print: \"house number 1001 on street named 1st Ave\"\n",
    "\n",
    "print(format_address(\"55 North Center Drive\"))\n",
    "# Should print \"house number 55 on street named North Center Drive\""
   ]
  },
  {
   "cell_type": "code",
   "execution_count": 398,
   "metadata": {},
   "outputs": [],
   "source": [
    "def format_address(address_string):\n",
    "  # Declare variables\n",
    "\n",
    "      house_number = ''\n",
    "      street_name = ''\n",
    "\n",
    "  # Separate the address string into parts\n",
    "      address_parts = address_string.split()\n",
    "\n",
    "  # Traverse through the address parts\n",
    "      for part in address_parts:\n",
    "        if part.isdigit():\n",
    "            house_number += part\n",
    "        else:\n",
    "            street_name += part\n",
    "    # Determine if the address part is the\n",
    "    # house number or part of the street name\n",
    "\n",
    "    \n",
    "        return \"house number {} on street named{}\".format(house_number, street_name)\n",
    "  # Does anything else need to be done \n",
    "  # before returning the result?\n",
    "  \n",
    "  # Return the formatted string  "
   ]
  },
  {
   "cell_type": "code",
   "execution_count": 399,
   "metadata": {},
   "outputs": [
    {
     "name": "stdout",
     "output_type": "stream",
     "text": [
      "house number 55 on street named\n"
     ]
    }
   ],
   "source": [
    "print(format_address(\"55 North Center Drive\"))\n"
   ]
  },
  {
   "cell_type": "markdown",
   "metadata": {},
   "source": [
    "Question 2\n",
    "The highlight_word function changes the given word in a sentence to its upper-case version. For example, highlight_word(\"Have a nice day\", \"nice\") returns \"Have a NICE day\". Can you write this function in just one line?"
   ]
  },
  {
   "cell_type": "code",
   "execution_count": 406,
   "metadata": {},
   "outputs": [
    {
     "name": "stdout",
     "output_type": "stream",
     "text": [
      "Have a NICE day\n",
      "Shhh, don't be so LOUD!\n",
      "Automating with Python is FUN\n"
     ]
    }
   ],
   "source": [
    "def highlight_word(sentence, word):\n",
    "\treturn(sentence.replace(word, word.upper()))\n",
    "\n",
    "print(highlight_word(\"Have a nice day\", \"nice\"))\n",
    "print(highlight_word(\"Shhh, don't be so loud!\", \"loud\"))\n",
    "print(highlight_word(\"Automating with Python is fun\", \"fun\"))\n"
   ]
  },
  {
   "cell_type": "markdown",
   "metadata": {},
   "source": [
    "Question 3\n",
    "A professor with two assistants, Jamie and Drew, wants an attendance list of the students, in the order that they arrived in the classroom. Drew was the first one to note which students arrived, and then Jamie took over. After the class, they each entered their lists into the computer and emailed them to the professor, who needs to combine them into one, in the order of each student's arrival. Jamie emailed a follow-up, saying that her list is in reverse order. Complete the steps to combine them into one list as follows: the contents of Drew's list, followed by Jamie's list in reverse order, to get an accurate list of the students as they arrived."
   ]
  },
  {
   "cell_type": "code",
   "execution_count": 410,
   "metadata": {},
   "outputs": [
    {
     "name": "stdout",
     "output_type": "stream",
     "text": [
      "['Mike', 'Carol', 'Greg', 'Marcia', 'Peter', 'Jan', 'Bobby', 'Cindy', 'Alice']\n"
     ]
    }
   ],
   "source": [
    "def combine_lists(list1, list2):\n",
    "  # Generate a new list containing the elements of list2\n",
    "  # Followed by the elements of list1 in reverse order\n",
    "    \n",
    "    fixed_list = Jamies_list[::-1]\n",
    "    \n",
    "    attendance = Drews_list + fixed_list\n",
    "    \n",
    "    return attendance\n",
    "  \n",
    "\t\n",
    "Jamies_list = [\"Alice\", \"Cindy\", \"Bobby\", \"Jan\", \"Peter\"]\n",
    "Drews_list = [\"Mike\", \"Carol\", \"Greg\", \"Marcia\"]\n",
    "\n",
    "print(combine_lists(Jamies_list, Drews_list))"
   ]
  },
  {
   "cell_type": "code",
   "execution_count": 408,
   "metadata": {},
   "outputs": [
    {
     "data": {
      "text/plain": [
       "['Peter', 'Jan', 'Bobby', 'Cindy', 'Alice']"
      ]
     },
     "execution_count": 408,
     "metadata": {},
     "output_type": "execute_result"
    }
   ],
   "source": [
    "Jamies_list = [\"Alice\", \"Cindy\", \"Bobby\", \"Jan\", \"Peter\"]\n",
    "\n",
    "Jamies_list[::-1]"
   ]
  },
  {
   "cell_type": "markdown",
   "metadata": {},
   "source": []
  },
  {
   "cell_type": "code",
   "execution_count": 418,
   "metadata": {},
   "outputs": [
    {
     "name": "stdout",
     "output_type": "stream",
     "text": [
      "Kia Soul costs 19000 dollars\n",
      "Lamborghini Diablo costs 55000 dollars\n",
      "Ford Fiesta costs 13000 dollars\n",
      "Toyota Prius costs 24000 dollars\n",
      "\n"
     ]
    }
   ],
   "source": [
    "def car_listing(car_prices):\n",
    "    result = \"\"\n",
    "    for car, price in car_prices.items():\n",
    "        result += \"{} costs {} dollars\".format(car, price) + \"\\n\"\n",
    "    return result\n",
    "\n",
    "print(car_listing({\"Kia Soul\":19000, \"Lamborghini Diablo\":55000, \"Ford Fiesta\":13000, \"Toyota Prius\":24000}))"
   ]
  },
  {
   "cell_type": "markdown",
   "metadata": {},
   "source": [
    "Taylor and Rory are hosting a party. They sent out invitations, and each one collected responses into dictionaries, with names of their friends and how many guests each friend is bringing. Each dictionary is a partial list, but Rory's list has more current information about the number of guests. Fill in the blanks to combine both dictionaries into one, with each friend listed only once, and the number of guests from Rory's dictionary taking precedence, if a name is included in both dictionaries. Then print the resulting dictionary."
   ]
  },
  {
   "cell_type": "code",
   "execution_count": 424,
   "metadata": {},
   "outputs": [
    {
     "name": "stdout",
     "output_type": "stream",
     "text": [
      "{'David': 1, 'Nancy': 1, 'Robert': 4, 'Adam': 2, 'Samantha': 3, 'Chris': 5, 'Brenda': 3, 'Jose': 3, 'Charlotte': 2, 'Terry': 1}\n"
     ]
    }
   ],
   "source": [
    "def combine_guests(guests1, guests2):\n",
    "  # Combine both dictionaries into one, with each key listed \n",
    "  # only once, and the value from guests1 taking precedence\n",
    "    \n",
    "    guests2.update(guests1)\n",
    "    \n",
    "    return guests2\n",
    "\n",
    "Rorys_guests = { \"Adam\":2, \"Brenda\":3, \"David\":1, \"Jose\":3, \"Charlotte\":2, \"Terry\":1, \"Robert\":4}\n",
    "Taylors_guests = { \"David\":4, \"Nancy\":1, \"Robert\":2, \"Adam\":1, \"Samantha\":3, \"Chris\":5}\n",
    "\n",
    "print(combine_guests(Rorys_guests, Taylors_guests))"
   ]
  },
  {
   "cell_type": "markdown",
   "metadata": {},
   "source": [
    "Question 7\n",
    "Use a dictionary to count the frequency of letters in the input string. Only letters should be counted, not blank spaces, numbers, or punctuation. Upper case should be considered the same as lower case. For example, count_letters(\"This is a sentence.\") should return {'t': 2, 'h': 1, 'i': 2, 's': 3, 'a': 1, 'e': 3, 'n': 2, 'c': 1}."
   ]
  },
  {
   "cell_type": "code",
   "execution_count": 474,
   "metadata": {},
   "outputs": [
    {
     "name": "stdout",
     "output_type": "stream",
     "text": [
      "None\n",
      "None\n",
      "None\n"
     ]
    }
   ],
   "source": [
    "def count_letters(text):\n",
    "    result = {}\n",
    "    count = 0\n",
    "      # Go through each letter in the text\n",
    "    for letters in text:\n",
    "        letters = letters.lower()\n",
    "        for x in letters:\n",
    "                \n",
    "\n",
    "   \n",
    "\n",
    "    \n",
    "\n",
    "\n",
    "print(count_letters(\"AaBbCc\"))\n",
    "# Should be {'a': 2, 'b': 2, 'c': 2}\n",
    "\n",
    "print(count_letters(\"Math is fun! 2+2=4\"))\n",
    "# Should be {'m': 1, 'a': 1, 't': 1, 'h': 1, 'i': 1, 's': 1, 'f': 1, 'u': 1, 'n': 1}\n",
    "\n",
    "print(count_letters(\"This is a sentence.\"))\n",
    "# Should be {'t': 2, 'h': 1, 'i': 2, 's': 3, 'a': 1, 'e': 3, 'n': 2, 'c': 1}"
   ]
  },
  {
   "cell_type": "code",
   "execution_count": null,
   "metadata": {},
   "outputs": [],
   "source": [
    "a"
   ]
  }
 ],
 "metadata": {
  "kernelspec": {
   "display_name": "Python 3",
   "language": "python",
   "name": "python3"
  },
  "language_info": {
   "codemirror_mode": {
    "name": "ipython",
    "version": 3
   },
   "file_extension": ".py",
   "mimetype": "text/x-python",
   "name": "python",
   "nbconvert_exporter": "python",
   "pygments_lexer": "ipython3",
   "version": "3.8.3"
  }
 },
 "nbformat": 4,
 "nbformat_minor": 4
}
